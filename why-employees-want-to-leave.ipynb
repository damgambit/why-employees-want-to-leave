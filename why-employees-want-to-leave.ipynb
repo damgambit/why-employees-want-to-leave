{
 "cells": [
  {
   "cell_type": "markdown",
   "metadata": {},
   "source": [
    "# Dataset Info\n",
    "\n",
    "### sourse: \n",
    "    https://www.kaggle.com/ludobenistant/hr-analytics\n",
    "\n",
    "\n",
    "### Kaggle decription: \n",
    "\n",
    "This dataset is simulated\n",
    "\n",
    "Why are our best and most experienced employees leaving prematurely? Have fun with this database and try to predict which valuable employees will leave next. Fields in the dataset include:\n",
    "\n",
    "- Satisfaction Level\n",
    "- Last evaluation\n",
    "- Number of projects\n",
    "- Average monthly hours\n",
    "- Time spent at the company\n",
    "- Whether they have had a work accident\n",
    "- Whether they have had a promotion in the last 5 years\n",
    "- Departments (column sales)\n",
    "- Salary\n",
    "- Whether the employee has left"
   ]
  },
  {
   "cell_type": "code",
   "execution_count": 2,
   "metadata": {
    "_cell_guid": "4ed9bd22-adce-4142-a781-726d98bd91d7",
    "_uuid": "68d225ecd9098c95462d4d668d515826440b6091",
    "collapsed": false
   },
   "outputs": [],
   "source": [
    "import numpy as np # linear algebra\n",
    "import pandas as pd # data processing, CSV file I/O (e.g. pd.read_csv)\n",
    "import seaborn as sns\n",
    "import matplotlib.pyplot as plt\n",
    "%matplotlib inline\n",
    "\n",
    "\n",
    "data = pd.read_csv('HR_comma_sep.csv')\n",
    "\n",
    "# Any results you write to the current directory are saved as output."
   ]
  },
  {
   "cell_type": "code",
   "execution_count": 3,
   "metadata": {
    "_uuid": "ad2600a74d77780ab620c5e41365ccd507b53c82",
    "collapsed": false
   },
   "outputs": [
    {
     "data": {
      "text/html": [
       "<div>\n",
       "<style>\n",
       "    .dataframe thead tr:only-child th {\n",
       "        text-align: right;\n",
       "    }\n",
       "\n",
       "    .dataframe thead th {\n",
       "        text-align: left;\n",
       "    }\n",
       "\n",
       "    .dataframe tbody tr th {\n",
       "        vertical-align: top;\n",
       "    }\n",
       "</style>\n",
       "<table border=\"1\" class=\"dataframe\">\n",
       "  <thead>\n",
       "    <tr style=\"text-align: right;\">\n",
       "      <th></th>\n",
       "      <th>satisfaction_level</th>\n",
       "      <th>last_evaluation</th>\n",
       "      <th>number_project</th>\n",
       "      <th>average_montly_hours</th>\n",
       "      <th>time_spend_company</th>\n",
       "      <th>Work_accident</th>\n",
       "      <th>left</th>\n",
       "      <th>promotion_last_5years</th>\n",
       "      <th>sales</th>\n",
       "      <th>salary</th>\n",
       "    </tr>\n",
       "  </thead>\n",
       "  <tbody>\n",
       "    <tr>\n",
       "      <th>0</th>\n",
       "      <td>0.38</td>\n",
       "      <td>0.53</td>\n",
       "      <td>2</td>\n",
       "      <td>157</td>\n",
       "      <td>3</td>\n",
       "      <td>0</td>\n",
       "      <td>1</td>\n",
       "      <td>0</td>\n",
       "      <td>sales</td>\n",
       "      <td>low</td>\n",
       "    </tr>\n",
       "    <tr>\n",
       "      <th>1</th>\n",
       "      <td>0.80</td>\n",
       "      <td>0.86</td>\n",
       "      <td>5</td>\n",
       "      <td>262</td>\n",
       "      <td>6</td>\n",
       "      <td>0</td>\n",
       "      <td>1</td>\n",
       "      <td>0</td>\n",
       "      <td>sales</td>\n",
       "      <td>medium</td>\n",
       "    </tr>\n",
       "    <tr>\n",
       "      <th>2</th>\n",
       "      <td>0.11</td>\n",
       "      <td>0.88</td>\n",
       "      <td>7</td>\n",
       "      <td>272</td>\n",
       "      <td>4</td>\n",
       "      <td>0</td>\n",
       "      <td>1</td>\n",
       "      <td>0</td>\n",
       "      <td>sales</td>\n",
       "      <td>medium</td>\n",
       "    </tr>\n",
       "    <tr>\n",
       "      <th>3</th>\n",
       "      <td>0.72</td>\n",
       "      <td>0.87</td>\n",
       "      <td>5</td>\n",
       "      <td>223</td>\n",
       "      <td>5</td>\n",
       "      <td>0</td>\n",
       "      <td>1</td>\n",
       "      <td>0</td>\n",
       "      <td>sales</td>\n",
       "      <td>low</td>\n",
       "    </tr>\n",
       "    <tr>\n",
       "      <th>4</th>\n",
       "      <td>0.37</td>\n",
       "      <td>0.52</td>\n",
       "      <td>2</td>\n",
       "      <td>159</td>\n",
       "      <td>3</td>\n",
       "      <td>0</td>\n",
       "      <td>1</td>\n",
       "      <td>0</td>\n",
       "      <td>sales</td>\n",
       "      <td>low</td>\n",
       "    </tr>\n",
       "  </tbody>\n",
       "</table>\n",
       "</div>"
      ],
      "text/plain": [
       "   satisfaction_level  last_evaluation  number_project  average_montly_hours  \\\n",
       "0                0.38             0.53               2                   157   \n",
       "1                0.80             0.86               5                   262   \n",
       "2                0.11             0.88               7                   272   \n",
       "3                0.72             0.87               5                   223   \n",
       "4                0.37             0.52               2                   159   \n",
       "\n",
       "   time_spend_company  Work_accident  left  promotion_last_5years  sales  \\\n",
       "0                   3              0     1                      0  sales   \n",
       "1                   6              0     1                      0  sales   \n",
       "2                   4              0     1                      0  sales   \n",
       "3                   5              0     1                      0  sales   \n",
       "4                   3              0     1                      0  sales   \n",
       "\n",
       "   salary  \n",
       "0     low  \n",
       "1  medium  \n",
       "2  medium  \n",
       "3     low  \n",
       "4     low  "
      ]
     },
     "execution_count": 3,
     "metadata": {},
     "output_type": "execute_result"
    }
   ],
   "source": [
    "data.head()"
   ]
  },
  {
   "cell_type": "code",
   "execution_count": 4,
   "metadata": {
    "_uuid": "a7ea02384b02a149c563a967b513d1743475a913",
    "collapsed": false
   },
   "outputs": [
    {
     "data": {
      "text/html": [
       "<div>\n",
       "<style>\n",
       "    .dataframe thead tr:only-child th {\n",
       "        text-align: right;\n",
       "    }\n",
       "\n",
       "    .dataframe thead th {\n",
       "        text-align: left;\n",
       "    }\n",
       "\n",
       "    .dataframe tbody tr th {\n",
       "        vertical-align: top;\n",
       "    }\n",
       "</style>\n",
       "<table border=\"1\" class=\"dataframe\">\n",
       "  <thead>\n",
       "    <tr style=\"text-align: right;\">\n",
       "      <th></th>\n",
       "      <th>satisfaction_level</th>\n",
       "      <th>last_evaluation</th>\n",
       "      <th>number_project</th>\n",
       "      <th>average_montly_hours</th>\n",
       "      <th>time_spend_company</th>\n",
       "      <th>Work_accident</th>\n",
       "      <th>left</th>\n",
       "      <th>promotion_last_5years</th>\n",
       "    </tr>\n",
       "  </thead>\n",
       "  <tbody>\n",
       "    <tr>\n",
       "      <th>count</th>\n",
       "      <td>14999.000000</td>\n",
       "      <td>14999.000000</td>\n",
       "      <td>14999.000000</td>\n",
       "      <td>14999.000000</td>\n",
       "      <td>14999.000000</td>\n",
       "      <td>14999.000000</td>\n",
       "      <td>14999.000000</td>\n",
       "      <td>14999.000000</td>\n",
       "    </tr>\n",
       "    <tr>\n",
       "      <th>mean</th>\n",
       "      <td>0.612834</td>\n",
       "      <td>0.716102</td>\n",
       "      <td>3.803054</td>\n",
       "      <td>201.050337</td>\n",
       "      <td>3.498233</td>\n",
       "      <td>0.144610</td>\n",
       "      <td>0.238083</td>\n",
       "      <td>0.021268</td>\n",
       "    </tr>\n",
       "    <tr>\n",
       "      <th>std</th>\n",
       "      <td>0.248631</td>\n",
       "      <td>0.171169</td>\n",
       "      <td>1.232592</td>\n",
       "      <td>49.943099</td>\n",
       "      <td>1.460136</td>\n",
       "      <td>0.351719</td>\n",
       "      <td>0.425924</td>\n",
       "      <td>0.144281</td>\n",
       "    </tr>\n",
       "    <tr>\n",
       "      <th>min</th>\n",
       "      <td>0.090000</td>\n",
       "      <td>0.360000</td>\n",
       "      <td>2.000000</td>\n",
       "      <td>96.000000</td>\n",
       "      <td>2.000000</td>\n",
       "      <td>0.000000</td>\n",
       "      <td>0.000000</td>\n",
       "      <td>0.000000</td>\n",
       "    </tr>\n",
       "    <tr>\n",
       "      <th>25%</th>\n",
       "      <td>0.440000</td>\n",
       "      <td>0.560000</td>\n",
       "      <td>3.000000</td>\n",
       "      <td>156.000000</td>\n",
       "      <td>3.000000</td>\n",
       "      <td>0.000000</td>\n",
       "      <td>0.000000</td>\n",
       "      <td>0.000000</td>\n",
       "    </tr>\n",
       "    <tr>\n",
       "      <th>50%</th>\n",
       "      <td>0.640000</td>\n",
       "      <td>0.720000</td>\n",
       "      <td>4.000000</td>\n",
       "      <td>200.000000</td>\n",
       "      <td>3.000000</td>\n",
       "      <td>0.000000</td>\n",
       "      <td>0.000000</td>\n",
       "      <td>0.000000</td>\n",
       "    </tr>\n",
       "    <tr>\n",
       "      <th>75%</th>\n",
       "      <td>0.820000</td>\n",
       "      <td>0.870000</td>\n",
       "      <td>5.000000</td>\n",
       "      <td>245.000000</td>\n",
       "      <td>4.000000</td>\n",
       "      <td>0.000000</td>\n",
       "      <td>0.000000</td>\n",
       "      <td>0.000000</td>\n",
       "    </tr>\n",
       "    <tr>\n",
       "      <th>max</th>\n",
       "      <td>1.000000</td>\n",
       "      <td>1.000000</td>\n",
       "      <td>7.000000</td>\n",
       "      <td>310.000000</td>\n",
       "      <td>10.000000</td>\n",
       "      <td>1.000000</td>\n",
       "      <td>1.000000</td>\n",
       "      <td>1.000000</td>\n",
       "    </tr>\n",
       "  </tbody>\n",
       "</table>\n",
       "</div>"
      ],
      "text/plain": [
       "       satisfaction_level  last_evaluation  number_project  \\\n",
       "count        14999.000000     14999.000000    14999.000000   \n",
       "mean             0.612834         0.716102        3.803054   \n",
       "std              0.248631         0.171169        1.232592   \n",
       "min              0.090000         0.360000        2.000000   \n",
       "25%              0.440000         0.560000        3.000000   \n",
       "50%              0.640000         0.720000        4.000000   \n",
       "75%              0.820000         0.870000        5.000000   \n",
       "max              1.000000         1.000000        7.000000   \n",
       "\n",
       "       average_montly_hours  time_spend_company  Work_accident          left  \\\n",
       "count          14999.000000        14999.000000   14999.000000  14999.000000   \n",
       "mean             201.050337            3.498233       0.144610      0.238083   \n",
       "std               49.943099            1.460136       0.351719      0.425924   \n",
       "min               96.000000            2.000000       0.000000      0.000000   \n",
       "25%              156.000000            3.000000       0.000000      0.000000   \n",
       "50%              200.000000            3.000000       0.000000      0.000000   \n",
       "75%              245.000000            4.000000       0.000000      0.000000   \n",
       "max              310.000000           10.000000       1.000000      1.000000   \n",
       "\n",
       "       promotion_last_5years  \n",
       "count           14999.000000  \n",
       "mean                0.021268  \n",
       "std                 0.144281  \n",
       "min                 0.000000  \n",
       "25%                 0.000000  \n",
       "50%                 0.000000  \n",
       "75%                 0.000000  \n",
       "max                 1.000000  "
      ]
     },
     "execution_count": 4,
     "metadata": {},
     "output_type": "execute_result"
    }
   ],
   "source": [
    "data.describe()"
   ]
  },
  {
   "cell_type": "code",
   "execution_count": 5,
   "metadata": {
    "_uuid": "73f04e80726b5d77b84e7e16e273f9027e2f3f8f",
    "collapsed": false
   },
   "outputs": [
    {
     "name": "stdout",
     "output_type": "stream",
     "text": [
      "<class 'pandas.core.frame.DataFrame'>\n",
      "RangeIndex: 14999 entries, 0 to 14998\n",
      "Data columns (total 10 columns):\n",
      "satisfaction_level       14999 non-null float64\n",
      "last_evaluation          14999 non-null float64\n",
      "number_project           14999 non-null int64\n",
      "average_montly_hours     14999 non-null int64\n",
      "time_spend_company       14999 non-null int64\n",
      "Work_accident            14999 non-null int64\n",
      "left                     14999 non-null int64\n",
      "promotion_last_5years    14999 non-null int64\n",
      "sales                    14999 non-null object\n",
      "salary                   14999 non-null object\n",
      "dtypes: float64(2), int64(6), object(2)\n",
      "memory usage: 1.1+ MB\n"
     ]
    }
   ],
   "source": [
    "data.info()"
   ]
  },
  {
   "cell_type": "code",
   "execution_count": 6,
   "metadata": {
    "_uuid": "8cc6290b4eaacbc8b9a41918c4cec1e568829720",
    "collapsed": true
   },
   "outputs": [],
   "source": [
    "car_feat = ['sales', 'salary']"
   ]
  },
  {
   "cell_type": "code",
   "execution_count": 7,
   "metadata": {
    "_uuid": "541baf662b875dcdf6d6a5fb6b625a2cc5b1bf44",
    "collapsed": true
   },
   "outputs": [],
   "source": [
    "X = pd.get_dummies(data.drop('left', axis=1), columns=car_feat)\n",
    "Y = data['left']"
   ]
  },
  {
   "cell_type": "code",
   "execution_count": 8,
   "metadata": {
    "_uuid": "cd503145c8d66aa19400978e8cd5b44037b37566",
    "collapsed": false
   },
   "outputs": [
    {
     "data": {
      "text/plain": [
       "<matplotlib.axes._subplots.AxesSubplot at 0x102d9eb38>"
      ]
     },
     "execution_count": 8,
     "metadata": {},
     "output_type": "execute_result"
    },
    {
     "data": {
      "image/png": "[encoded data removed]",
      "text/plain": [
       "<matplotlib.figure.Figure at 0x108411b70>"
      ]
     },
     "metadata": {},
     "output_type": "display_data"
    }
   ],
   "source": [
    "sns.countplot(x = 'left', data = data)"
   ]
  },
  {
   "cell_type": "code",
   "execution_count": 9,
   "metadata": {
    "_uuid": "cba8de229dac34865e2c66802ee689097c947ec4",
    "collapsed": false
   },
   "outputs": [
    {
     "name": "stdout",
     "output_type": "stream",
     "text": [
      "                       satisfaction_level  last_evaluation  number_project  \\\n",
      "satisfaction_level               1.000000         0.105021       -0.142970   \n",
      "last_evaluation                  0.105021         1.000000        0.349333   \n",
      "number_project                  -0.142970         0.349333        1.000000   \n",
      "average_montly_hours            -0.020048         0.339742        0.417211   \n",
      "time_spend_company              -0.100866         0.131591        0.196786   \n",
      "Work_accident                    0.058697        -0.007104       -0.004741   \n",
      "left                            -0.388375         0.006567        0.023787   \n",
      "promotion_last_5years            0.025605        -0.008684       -0.006064   \n",
      "\n",
      "                       average_montly_hours  time_spend_company  \\\n",
      "satisfaction_level                -0.020048           -0.100866   \n",
      "last_evaluation                    0.339742            0.131591   \n",
      "number_project                     0.417211            0.196786   \n",
      "average_montly_hours               1.000000            0.127755   \n",
      "time_spend_company                 0.127755            1.000000   \n",
      "Work_accident                     -0.010143            0.002120   \n",
      "left                               0.071287            0.144822   \n",
      "promotion_last_5years             -0.003544            0.067433   \n",
      "\n",
      "                       Work_accident      left  promotion_last_5years  \n",
      "satisfaction_level          0.058697 -0.388375               0.025605  \n",
      "last_evaluation            -0.007104  0.006567              -0.008684  \n",
      "number_project             -0.004741  0.023787              -0.006064  \n",
      "average_montly_hours       -0.010143  0.071287              -0.003544  \n",
      "time_spend_company          0.002120  0.144822               0.067433  \n",
      "Work_accident               1.000000 -0.154622               0.039245  \n",
      "left                       -0.154622  1.000000              -0.061788  \n",
      "promotion_last_5years       0.039245 -0.061788               1.000000  \n"
     ]
    },
    {
     "data": {
      "text/plain": [
       "<matplotlib.axes._subplots.AxesSubplot at 0x108dda0b8>"
      ]
     },
     "execution_count": 9,
     "metadata": {},
     "output_type": "execute_result"
    },
    {
     "data": {
      "image/png": "[encoded data removed]",
      "text/plain": [
       "<matplotlib.figure.Figure at 0x102d786d8>"
      ]
     },
     "metadata": {},
     "output_type": "display_data"
    }
   ],
   "source": [
    "corr = data.corr()\n",
    "print(corr)\n",
    "sns.heatmap(corr)"
   ]
  },
  {
   "cell_type": "code",
   "execution_count": 13,
   "metadata": {
    "_uuid": "f6f6158e8a5a1eddaad8df78d4451de4ba0cbda9",
    "collapsed": false
   },
   "outputs": [
    {
     "data": {
      "text/plain": [
       "<matplotlib.text.Text at 0x10926e5f8>"
      ]
     },
     "execution_count": 13,
     "metadata": {},
     "output_type": "execute_result"
    },
    {
     "data": {
      "image/png": "[encoded data removed]",
      "text/plain": [
       "<matplotlib.figure.Figure at 0x10932f6d8>"
      ]
     },
     "metadata": {},
     "output_type": "display_data"
    }
   ],
   "source": [
    "salary = data[['salary', 'left']]\n",
    "\n",
    "sns.barplot(x = 'salary', y = 'left', data = salary[salary['left'] == 0], estimator = len)\n",
    "\n",
    "plt.title(\"LEFT = 0\")"
   ]
  },
  {
   "cell_type": "code",
   "execution_count": 14,
   "metadata": {
    "_uuid": "cf93a0298ddc15ed838a1ba99de85986720c26ec",
    "collapsed": false
   },
   "outputs": [
    {
     "data": {
      "text/plain": [
       "<matplotlib.text.Text at 0x1095b1d68>"
      ]
     },
     "execution_count": 14,
     "metadata": {},
     "output_type": "execute_result"
    },
    {
     "data": {
      "image/png": "[encoded data removed]",
      "text/plain": [
       "<matplotlib.figure.Figure at 0x1093282b0>"
      ]
     },
     "metadata": {},
     "output_type": "display_data"
    }
   ],
   "source": [
    "sns.barplot(x = 'salary', y = 'left', data = salary[salary['left'] == 1], estimator = len)\n",
    "plt.title(\"LEFT = 1\")"
   ]
  },
  {
   "cell_type": "code",
   "execution_count": 15,
   "metadata": {
    "_uuid": "c97d874c1e6fdf619872b9420117ae7d6f83d6e0",
    "collapsed": false
   },
   "outputs": [
    {
     "data": {
      "text/plain": [
       "<matplotlib.axes._subplots.AxesSubplot at 0x109b8e7f0>"
      ]
     },
     "execution_count": 15,
     "metadata": {},
     "output_type": "execute_result"
    },
    {
     "data": {
      "image/png": "[encoded data removed]",
      "text/plain": [
       "<matplotlib.figure.Figure at 0x1090527b8>"
      ]
     },
     "metadata": {},
     "output_type": "display_data"
    }
   ],
   "source": [
    "sns.countplot(x = 'number_project', data = data, hue = 'left')"
   ]
  },
  {
   "cell_type": "code",
   "execution_count": null,
   "metadata": {
    "_uuid": "e31d1f415474472b6590e3ea2a18206ba3fc8184",
    "collapsed": true
   },
   "outputs": [],
   "source": []
  },
  {
   "cell_type": "code",
   "execution_count": 16,
   "metadata": {
    "_uuid": "063ca47c0429ebc8bc29187b66260831fd132bf2",
    "collapsed": false
   },
   "outputs": [
    {
     "data": {
      "text/plain": [
       "<matplotlib.legend.Legend at 0x1099ef7f0>"
      ]
     },
     "execution_count": 16,
     "metadata": {},
     "output_type": "execute_result"
    },
    {
     "data": {
      "image/png": "[encoded data removed]",
      "text/plain": [
       "<matplotlib.figure.Figure at 0x109c5c668>"
      ]
     },
     "metadata": {},
     "output_type": "display_data"
    }
   ],
   "source": [
    "plt.figure(figsize = (12,6))\n",
    "\n",
    "data[data['left'] == 0]['average_montly_hours'].hist(alpha = 0.8, label = 'left = 0')\n",
    "data[data['left'] == 1]['average_montly_hours'].hist(alpha = 0.8, label = 'left = 1')\n",
    "\n",
    "plt.xlabel(\"average_montly_hours\")\n",
    "plt.legend()"
   ]
  },
  {
   "cell_type": "code",
   "execution_count": 17,
   "metadata": {
    "_uuid": "9357b8f9aaf78f1216b285bcb8117cf258e86097",
    "collapsed": false
   },
   "outputs": [
    {
     "data": {
      "text/plain": [
       "<matplotlib.legend.Legend at 0x1098e0c50>"
      ]
     },
     "execution_count": 17,
     "metadata": {},
     "output_type": "execute_result"
    },
    {
     "data": {
      "image/png": "[encoded data removed]",
      "text/plain": [
       "<matplotlib.figure.Figure at 0x109715ba8>"
      ]
     },
     "metadata": {},
     "output_type": "display_data"
    }
   ],
   "source": [
    "plt.figure(figsize = (12,6))\n",
    "\n",
    "data[data['left'] == 0]['satisfaction_level'].hist(alpha = 0.8, label = 'left = 0')\n",
    "data[data['left'] == 1]['satisfaction_level'].hist(alpha = 0.8, label = 'left = 1')\n",
    "\n",
    "plt.xlabel(\"satisfaction_level\")\n",
    "plt.legend()"
   ]
  },
  {
   "cell_type": "code",
   "execution_count": 18,
   "metadata": {
    "_uuid": "c74c432f67ce59282a141e711c1dac46ace6f82a",
    "collapsed": false
   },
   "outputs": [
    {
     "data": {
      "text/plain": [
       "<matplotlib.legend.Legend at 0x1098e0a58>"
      ]
     },
     "execution_count": 18,
     "metadata": {},
     "output_type": "execute_result"
    },
    {
     "data": {
      "image/png": "[encoded data removed]",
      "text/plain": [
       "<matplotlib.figure.Figure at 0x10973d0b8>"
      ]
     },
     "metadata": {},
     "output_type": "display_data"
    }
   ],
   "source": [
    "plt.figure(figsize = (12,6))\n",
    "\n",
    "data[data['left'] == 0]['time_spend_company'].hist(alpha = 0.8, label = 'left = 0')\n",
    "data[data['left'] == 1]['time_spend_company'].hist(alpha = 0.8, label = 'left = 1')\n",
    "\n",
    "plt.xlabel(\"time_spend_company\")\n",
    "plt.legend()"
   ]
  },
  {
   "cell_type": "markdown",
   "metadata": {
    "_uuid": "a8a31dd2b17f42d9f59645ce14dab97a4548ec13"
   },
   "source": [
    "# Split and prepare the data"
   ]
  },
  {
   "cell_type": "code",
   "execution_count": 19,
   "metadata": {
    "_uuid": "102ad4d4e21d3b304851164a787493c0204c9c9e",
    "collapsed": true
   },
   "outputs": [],
   "source": [
    "from sklearn.model_selection import train_test_split\n",
    "from sklearn.metrics import confusion_matrix, classification_report\n",
    "\n",
    "train_x, test_x, train_y, test_y = train_test_split(X, Y, test_size = 0.2)"
   ]
  },
  {
   "cell_type": "markdown",
   "metadata": {
    "_uuid": "b44742f18eab0c91ef2c3e72b1781f719282230a"
   },
   "source": [
    "# Logistic regression model"
   ]
  },
  {
   "cell_type": "code",
   "execution_count": 33,
   "metadata": {
    "_uuid": "44370944bf1e8df347d07725e7783d06b19a0782",
    "collapsed": false
   },
   "outputs": [
    {
     "name": "stdout",
     "output_type": "stream",
     "text": [
      "\n",
      "LogisticRegression model: \n",
      "\n",
      "\n",
      "             precision    recall  f1-score   support\n",
      "\n",
      "          0       0.82      0.92      0.87      2271\n",
      "          1       0.60      0.37      0.46       729\n",
      "\n",
      "avg / total       0.77      0.79      0.77      3000\n",
      "\n",
      "\n",
      "\n",
      "[[2089  182]\n",
      " [ 457  272]]\n",
      "Accuracy:  0.787\n",
      "   satisfaction_level  last_evaluation  number_project  average_montly_hours  \\\n",
      "0           -4.034684         0.631537       -0.313702              0.004678   \n",
      "\n",
      "   time_spend_company  Work_accident  promotion_last_5years  sales_IT  \\\n",
      "0            0.273952      -1.462224              -1.220352 -0.111757   \n",
      "\n",
      "   sales_RandD  sales_accounting  sales_hr  sales_management  sales_marketing  \\\n",
      "0    -0.612911          0.110957  0.403187         -0.337135         0.058526   \n",
      "\n",
      "   sales_product_mng  sales_sales  sales_support  sales_technical  \\\n",
      "0          -0.181372     0.041642       0.136019         0.150237   \n",
      "\n",
      "   salary_high  salary_low  salary_medium  \n",
      "0    -1.147543    0.680606       0.124329  \n",
      "\n",
      "********************************************\n",
      "\n"
     ]
    }
   ],
   "source": [
    "from sklearn.linear_model import LogisticRegression\n",
    "\n",
    "lr = LogisticRegression()\n",
    "lr.fit(train_x, train_y)\n",
    "\n",
    "predictions = lr.predict(test_x)\n",
    "\n",
    "print(\"\\nLogisticRegression model: \")\n",
    "print(\"\\n\")\n",
    "\n",
    "print(classification_report(test_y, predictions))\n",
    "print(\"\\n\")\n",
    "\n",
    "res = confusion_matrix(test_y, predictions)\n",
    "print(res) #TN - FP | FN - TP\n",
    "\n",
    "print(\"Accuracy: \", (res[0][0] + res[1][1])/len(test_y))\n",
    "\n",
    "\n",
    "coef = pd.DataFrame(lr.coef_, columns=train_x.columns)\n",
    "\n",
    "print(\"\\n********************************************\\n\")"
   ]
  },
  {
   "cell_type": "code",
   "execution_count": 35,
   "metadata": {
    "collapsed": false
   },
   "outputs": [
    {
     "data": {
      "text/html": [
       "<div>\n",
       "<style>\n",
       "    .dataframe thead tr:only-child th {\n",
       "        text-align: right;\n",
       "    }\n",
       "\n",
       "    .dataframe thead th {\n",
       "        text-align: left;\n",
       "    }\n",
       "\n",
       "    .dataframe tbody tr th {\n",
       "        vertical-align: top;\n",
       "    }\n",
       "</style>\n",
       "<table border=\"1\" class=\"dataframe\">\n",
       "  <thead>\n",
       "    <tr style=\"text-align: right;\">\n",
       "      <th></th>\n",
       "      <th>0</th>\n",
       "    </tr>\n",
       "  </thead>\n",
       "  <tbody>\n",
       "    <tr>\n",
       "      <th>satisfaction_level</th>\n",
       "      <td>-4.034684</td>\n",
       "    </tr>\n",
       "    <tr>\n",
       "      <th>last_evaluation</th>\n",
       "      <td>0.631537</td>\n",
       "    </tr>\n",
       "    <tr>\n",
       "      <th>number_project</th>\n",
       "      <td>-0.313702</td>\n",
       "    </tr>\n",
       "    <tr>\n",
       "      <th>average_montly_hours</th>\n",
       "      <td>0.004678</td>\n",
       "    </tr>\n",
       "    <tr>\n",
       "      <th>time_spend_company</th>\n",
       "      <td>0.273952</td>\n",
       "    </tr>\n",
       "    <tr>\n",
       "      <th>Work_accident</th>\n",
       "      <td>-1.462224</td>\n",
       "    </tr>\n",
       "    <tr>\n",
       "      <th>promotion_last_5years</th>\n",
       "      <td>-1.220352</td>\n",
       "    </tr>\n",
       "    <tr>\n",
       "      <th>sales_IT</th>\n",
       "      <td>-0.111757</td>\n",
       "    </tr>\n",
       "    <tr>\n",
       "      <th>sales_RandD</th>\n",
       "      <td>-0.612911</td>\n",
       "    </tr>\n",
       "    <tr>\n",
       "      <th>sales_accounting</th>\n",
       "      <td>0.110957</td>\n",
       "    </tr>\n",
       "    <tr>\n",
       "      <th>sales_hr</th>\n",
       "      <td>0.403187</td>\n",
       "    </tr>\n",
       "    <tr>\n",
       "      <th>sales_management</th>\n",
       "      <td>-0.337135</td>\n",
       "    </tr>\n",
       "    <tr>\n",
       "      <th>sales_marketing</th>\n",
       "      <td>0.058526</td>\n",
       "    </tr>\n",
       "    <tr>\n",
       "      <th>sales_product_mng</th>\n",
       "      <td>-0.181372</td>\n",
       "    </tr>\n",
       "    <tr>\n",
       "      <th>sales_sales</th>\n",
       "      <td>0.041642</td>\n",
       "    </tr>\n",
       "    <tr>\n",
       "      <th>sales_support</th>\n",
       "      <td>0.136019</td>\n",
       "    </tr>\n",
       "    <tr>\n",
       "      <th>sales_technical</th>\n",
       "      <td>0.150237</td>\n",
       "    </tr>\n",
       "    <tr>\n",
       "      <th>salary_high</th>\n",
       "      <td>-1.147543</td>\n",
       "    </tr>\n",
       "    <tr>\n",
       "      <th>salary_low</th>\n",
       "      <td>0.680606</td>\n",
       "    </tr>\n",
       "    <tr>\n",
       "      <th>salary_medium</th>\n",
       "      <td>0.124329</td>\n",
       "    </tr>\n",
       "  </tbody>\n",
       "</table>\n",
       "</div>"
      ],
      "text/plain": [
       "                              0\n",
       "satisfaction_level    -4.034684\n",
       "last_evaluation        0.631537\n",
       "number_project        -0.313702\n",
       "average_montly_hours   0.004678\n",
       "time_spend_company     0.273952\n",
       "Work_accident         -1.462224\n",
       "promotion_last_5years -1.220352\n",
       "sales_IT              -0.111757\n",
       "sales_RandD           -0.612911\n",
       "sales_accounting       0.110957\n",
       "sales_hr               0.403187\n",
       "sales_management      -0.337135\n",
       "sales_marketing        0.058526\n",
       "sales_product_mng     -0.181372\n",
       "sales_sales            0.041642\n",
       "sales_support          0.136019\n",
       "sales_technical        0.150237\n",
       "salary_high           -1.147543\n",
       "salary_low             0.680606\n",
       "salary_medium          0.124329"
      ]
     },
     "execution_count": 35,
     "metadata": {},
     "output_type": "execute_result"
    }
   ],
   "source": [
    "coef.T"
   ]
  },
  {
   "cell_type": "markdown",
   "metadata": {
    "_uuid": "0f57f474ff1de4dbc62d0ea7155197272893cee2",
    "collapsed": true
   },
   "source": [
    "# KNearestNeighbor"
   ]
  },
  {
   "cell_type": "code",
   "execution_count": 22,
   "metadata": {
    "collapsed": false
   },
   "outputs": [
    {
     "name": "stdout",
     "output_type": "stream",
     "text": [
      "\\KNearestNeighbors model[k = 1]: \n",
      "\n",
      "\n",
      "             precision    recall  f1-score   support\n",
      "\n",
      "          0       0.99      0.95      0.97      2271\n",
      "          1       0.87      0.96      0.91       729\n",
      "\n",
      "avg / total       0.96      0.95      0.96      3000\n",
      "\n",
      "\n",
      "\n",
      "[[2166  105]\n",
      " [  32  697]]\n",
      "Accuracy:  0.954333333333\n",
      "\n",
      "********************************************\n",
      "\n"
     ]
    }
   ],
   "source": [
    "from sklearn.neighbors import KNeighborsClassifier\n",
    "\n",
    "knn = KNeighborsClassifier(n_neighbors=1)\n",
    "knn.fit(train_x, train_y)\n",
    "\n",
    "predictions = knn.predict(test_x)\n",
    "\n",
    "print(\"\\KNearestNeighbors model[k = 1]: \")\n",
    "print(\"\\n\")\n",
    "\n",
    "print(classification_report(test_y, predictions))\n",
    "print(\"\\n\")\n",
    "\n",
    "res = confusion_matrix(test_y, predictions)\n",
    "print(res) #TN - FP | FN - TP\n",
    "\n",
    "print(\"Accuracy: \", (res[0][0] + res[1][1])/len(test_y))\n",
    "\n",
    "print(\"\\n********************************************\\n\")"
   ]
  },
  {
   "cell_type": "code",
   "execution_count": 23,
   "metadata": {
    "collapsed": false
   },
   "outputs": [
    {
     "data": {
      "text/plain": [
       "<matplotlib.text.Text at 0x10abef828>"
      ]
     },
     "execution_count": 23,
     "metadata": {},
     "output_type": "execute_result"
    },
    {
     "data": {
      "image/png": "[encoded data removed]",
      "text/plain": [
       "<matplotlib.figure.Figure at 0x10abc9e48>"
      ]
     },
     "metadata": {},
     "output_type": "display_data"
    }
   ],
   "source": [
    "K = range(1,41)\n",
    "errors = []\n",
    "\n",
    "for i in K:\n",
    "    knn = KNeighborsClassifier(n_neighbors=i)\n",
    "    knn.fit(train_x, train_y)\n",
    "    predictions = knn.predict(test_x)\n",
    "    acc = knn.score(test_x, test_y)\n",
    "    errors.append(1 - acc)\n",
    "    \n",
    "    \n",
    "plt.figure(figsize=(12,6))\n",
    "plt.plot(K, errors, color='red', marker='o', markerfacecolor='blue', markersize=10)\n",
    "plt.xlabel('K')\n",
    "plt.ylabel('Error rate')"
   ]
  },
  {
   "cell_type": "code",
   "execution_count": 24,
   "metadata": {
    "collapsed": false
   },
   "outputs": [
    {
     "name": "stdout",
     "output_type": "stream",
     "text": [
      "\\KNearestNeighbors model[k = 2]: \n",
      "\n",
      "\n",
      "             precision    recall  f1-score   support\n",
      "\n",
      "          0       0.97      0.97      0.97      2271\n",
      "          1       0.90      0.91      0.91       729\n",
      "\n",
      "avg / total       0.95      0.95      0.95      3000\n",
      "\n",
      "\n",
      "\n",
      "[[2196   75]\n",
      " [  62  667]]\n",
      "Accuracy:  0.954333333333\n",
      "\n",
      "********************************************\n",
      "\n"
     ]
    }
   ],
   "source": [
    "from sklearn.neighbors import KNeighborsClassifier\n",
    "\n",
    "knn = KNeighborsClassifier(n_neighbors=2)\n",
    "knn.fit(train_x, train_y)\n",
    "\n",
    "predictions = knn.predict(test_x)\n",
    "\n",
    "print(\"\\KNearestNeighbors model[k = 2]: \")\n",
    "print(\"\\n\")\n",
    "\n",
    "print(classification_report(test_y, predictions))\n",
    "print(\"\\n\")\n",
    "\n",
    "res = confusion_matrix(test_y, predictions)\n",
    "print(res) #TN - FP | FN - TP\n",
    "\n",
    "print(\"Accuracy: \", (res[0][0] + res[1][1])/len(test_y))\n",
    "\n",
    "print(\"\\n********************************************\\n\")"
   ]
  },
  {
   "cell_type": "markdown",
   "metadata": {},
   "source": [
    "# Decision Tree"
   ]
  },
  {
   "cell_type": "code",
   "execution_count": 29,
   "metadata": {
    "collapsed": false
   },
   "outputs": [
    {
     "name": "stdout",
     "output_type": "stream",
     "text": [
      "\\DecisionTreeClassifier model[k = 1]: \n",
      "\n",
      "\n",
      "             precision    recall  f1-score   support\n",
      "\n",
      "          0       0.99      0.98      0.99      2271\n",
      "          1       0.95      0.97      0.96       729\n",
      "\n",
      "avg / total       0.98      0.98      0.98      3000\n",
      "\n",
      "\n",
      "\n",
      "[[2233   38]\n",
      " [  22  707]]\n",
      "Accuracy:  0.98\n",
      "\n",
      "********************************************\n",
      "\n"
     ]
    }
   ],
   "source": [
    "from sklearn.tree import DecisionTreeClassifier\n",
    "\n",
    "dtree = DecisionTreeClassifier()\n",
    "dtree.fit(train_x, train_y)\n",
    "\n",
    "predictions = dtree.predict(test_x)\n",
    "\n",
    "print(\"\\DecisionTreeClassifier model[k = 1]: \")\n",
    "print(\"\\n\")\n",
    "\n",
    "print(classification_report(test_y, predictions))\n",
    "print(\"\\n\")\n",
    "\n",
    "res = confusion_matrix(test_y, predictions)\n",
    "print(res) #TN - FP | FN - TP\n",
    "\n",
    "print(\"Accuracy: \", (res[0][0] + res[1][1])/len(test_y))\n",
    "\n",
    "print(\"\\n********************************************\\n\")"
   ]
  },
  {
   "cell_type": "markdown",
   "metadata": {},
   "source": [
    "# Random Forest"
   ]
  },
  {
   "cell_type": "code",
   "execution_count": 28,
   "metadata": {
    "collapsed": false
   },
   "outputs": [
    {
     "name": "stdout",
     "output_type": "stream",
     "text": [
      "\\RandomForestClassifier model: \n",
      "\n",
      "\n",
      "             precision    recall  f1-score   support\n",
      "\n",
      "          0       0.99      1.00      0.99      2271\n",
      "          1       0.99      0.96      0.98       729\n",
      "\n",
      "avg / total       0.99      0.99      0.99      3000\n",
      "\n",
      "\n",
      "\n",
      "[[2264    7]\n",
      " [  26  703]]\n",
      "Accuracy:  0.989\n",
      "\n",
      "********************************************\n",
      "\n"
     ]
    }
   ],
   "source": [
    "from sklearn.ensemble import RandomForestClassifier\n",
    "\n",
    "rf = RandomForestClassifier()\n",
    "rf.fit(train_x, train_y)\n",
    "\n",
    "predictions = rf.predict(test_x)\n",
    "\n",
    "print(\"\\RandomForestClassifier model: \")\n",
    "print(\"\\n\")\n",
    "\n",
    "print(classification_report(test_y, predictions))\n",
    "print(\"\\n\")\n",
    "\n",
    "res = confusion_matrix(test_y, predictions)\n",
    "print(res) #TN - FP | FN - TP\n",
    "\n",
    "print(\"Accuracy: \", (res[0][0] + res[1][1])/len(test_y))\n",
    "\n",
    "print(\"\\n********************************************\\n\")"
   ]
  },
  {
   "cell_type": "markdown",
   "metadata": {},
   "source": [
    "# Why are the employees leaving?"
   ]
  },
  {
   "cell_type": "code",
   "execution_count": 37,
   "metadata": {
    "collapsed": false
   },
   "outputs": [
    {
     "data": {
      "text/html": [
       "<div>\n",
       "<style>\n",
       "    .dataframe thead tr:only-child th {\n",
       "        text-align: right;\n",
       "    }\n",
       "\n",
       "    .dataframe thead th {\n",
       "        text-align: left;\n",
       "    }\n",
       "\n",
       "    .dataframe tbody tr th {\n",
       "        vertical-align: top;\n",
       "    }\n",
       "</style>\n",
       "<table border=\"1\" class=\"dataframe\">\n",
       "  <thead>\n",
       "    <tr style=\"text-align: right;\">\n",
       "      <th></th>\n",
       "      <th>0</th>\n",
       "    </tr>\n",
       "  </thead>\n",
       "  <tbody>\n",
       "    <tr>\n",
       "      <th>satisfaction_level</th>\n",
       "      <td>-4.034684</td>\n",
       "    </tr>\n",
       "    <tr>\n",
       "      <th>last_evaluation</th>\n",
       "      <td>0.631537</td>\n",
       "    </tr>\n",
       "    <tr>\n",
       "      <th>number_project</th>\n",
       "      <td>-0.313702</td>\n",
       "    </tr>\n",
       "    <tr>\n",
       "      <th>average_montly_hours</th>\n",
       "      <td>0.004678</td>\n",
       "    </tr>\n",
       "    <tr>\n",
       "      <th>time_spend_company</th>\n",
       "      <td>0.273952</td>\n",
       "    </tr>\n",
       "    <tr>\n",
       "      <th>Work_accident</th>\n",
       "      <td>-1.462224</td>\n",
       "    </tr>\n",
       "    <tr>\n",
       "      <th>promotion_last_5years</th>\n",
       "      <td>-1.220352</td>\n",
       "    </tr>\n",
       "    <tr>\n",
       "      <th>sales_IT</th>\n",
       "      <td>-0.111757</td>\n",
       "    </tr>\n",
       "    <tr>\n",
       "      <th>sales_RandD</th>\n",
       "      <td>-0.612911</td>\n",
       "    </tr>\n",
       "    <tr>\n",
       "      <th>sales_accounting</th>\n",
       "      <td>0.110957</td>\n",
       "    </tr>\n",
       "    <tr>\n",
       "      <th>sales_hr</th>\n",
       "      <td>0.403187</td>\n",
       "    </tr>\n",
       "    <tr>\n",
       "      <th>sales_management</th>\n",
       "      <td>-0.337135</td>\n",
       "    </tr>\n",
       "    <tr>\n",
       "      <th>sales_marketing</th>\n",
       "      <td>0.058526</td>\n",
       "    </tr>\n",
       "    <tr>\n",
       "      <th>sales_product_mng</th>\n",
       "      <td>-0.181372</td>\n",
       "    </tr>\n",
       "    <tr>\n",
       "      <th>sales_sales</th>\n",
       "      <td>0.041642</td>\n",
       "    </tr>\n",
       "    <tr>\n",
       "      <th>sales_support</th>\n",
       "      <td>0.136019</td>\n",
       "    </tr>\n",
       "    <tr>\n",
       "      <th>sales_technical</th>\n",
       "      <td>0.150237</td>\n",
       "    </tr>\n",
       "    <tr>\n",
       "      <th>salary_high</th>\n",
       "      <td>-1.147543</td>\n",
       "    </tr>\n",
       "    <tr>\n",
       "      <th>salary_low</th>\n",
       "      <td>0.680606</td>\n",
       "    </tr>\n",
       "    <tr>\n",
       "      <th>salary_medium</th>\n",
       "      <td>0.124329</td>\n",
       "    </tr>\n",
       "  </tbody>\n",
       "</table>\n",
       "</div>"
      ],
      "text/plain": [
       "                              0\n",
       "satisfaction_level    -4.034684\n",
       "last_evaluation        0.631537\n",
       "number_project        -0.313702\n",
       "average_montly_hours   0.004678\n",
       "time_spend_company     0.273952\n",
       "Work_accident         -1.462224\n",
       "promotion_last_5years -1.220352\n",
       "sales_IT              -0.111757\n",
       "sales_RandD           -0.612911\n",
       "sales_accounting       0.110957\n",
       "sales_hr               0.403187\n",
       "sales_management      -0.337135\n",
       "sales_marketing        0.058526\n",
       "sales_product_mng     -0.181372\n",
       "sales_sales            0.041642\n",
       "sales_support          0.136019\n",
       "sales_technical        0.150237\n",
       "salary_high           -1.147543\n",
       "salary_low             0.680606\n",
       "salary_medium          0.124329"
      ]
     },
     "execution_count": 37,
     "metadata": {},
     "output_type": "execute_result"
    }
   ],
   "source": [
    "coef.T"
   ]
  },
  {
   "cell_type": "code",
   "execution_count": 45,
   "metadata": {
    "collapsed": false
   },
   "outputs": [],
   "source": [
    "max_weight = coef.max(axis = 1)\n",
    "min_weight = coef.min(axis = 1)"
   ]
  },
  {
   "cell_type": "code",
   "execution_count": 51,
   "metadata": {
    "collapsed": false
   },
   "outputs": [
    {
     "name": "stdout",
     "output_type": "stream",
     "text": [
      "The heaviest feature when an employee wants to leave is the presence of a LOW SALARY with a weigth of 0.680606\n",
      "\n",
      "The heaviest feature when an employee doesn't want to leave is the satisfaction_level with a weight of -4.034684\n"
     ]
    }
   ],
   "source": [
    "print(\"The heaviest feature when an employee wants to leave is the presence of a LOW SALARY with a weigth of 0.680606\")\n",
    "print(\"\\nThe heaviest feature when an employee doesn't want to leave is the satisfaction_level with a weight of -4.034684\")"
   ]
  },
  {
   "cell_type": "code",
   "execution_count": null,
   "metadata": {
    "collapsed": false
   },
   "outputs": [],
   "source": []
  },
  {
   "cell_type": "code",
   "execution_count": null,
   "metadata": {
    "collapsed": true
   },
   "outputs": [],
   "source": []
  }
 ],
 "metadata": {
  "kernelspec": {
   "display_name": "Python 3",
   "language": "python",
   "name": "python3"
  },
  "language_info": {
   "codemirror_mode": {
    "name": "ipython",
    "version": 3
   },
   "file_extension": ".py",
   "mimetype": "text/x-python",
   "name": "python",
   "nbconvert_exporter": "python",
   "pygments_lexer": "ipython3",
   "version": "3.6.0"
  }
 },
 "nbformat": 4,
 "nbformat_minor": 1
}
